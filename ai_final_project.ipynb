{
  "nbformat": 4,
  "nbformat_minor": 0,
  "metadata": {
    "colab": {
      "name": "ai_final_project.ipynb",
      "provenance": [],
      "collapsed_sections": [],
      "include_colab_link": true
    },
    "kernelspec": {
      "name": "python3",
      "display_name": "Python 3"
    },
    "language_info": {
      "name": "python"
    }
  },
  "cells": [
    {
      "cell_type": "markdown",
      "metadata": {
        "id": "view-in-github",
        "colab_type": "text"
      },
      "source": [
        "<a href=\"https://colab.research.google.com/github/amemov/Neural-Network-Intro-to-AI/blob/main/ai_final_project.ipynb\" target=\"_parent\"><img src=\"https://colab.research.google.com/assets/colab-badge.svg\" alt=\"Open In Colab\"/></a>"
      ]
    },
    {
      "cell_type": "code",
      "metadata": {
        "id": "dCUGhWA9N_s6"
      },
      "source": [
        "# Final Project for Intro to AI class by Anton Shepelev and Andrey Kukushkin\n",
        "# Deep Neural Network with linear regression model. \n",
        "\"\"\"\n",
        "      Predicts\n",
        "Y1  Heating Load\n",
        "      Features\n",
        "X1 Relative Compactness\n",
        "X2 Surface Area\n",
        "X3 Wall Area\n",
        "X4 Roof Area\n",
        "X5 Overall Height\n",
        "X6 Orientation\n",
        "X7 Glazing Area\n",
        "X8 Glazing Area Distribution\"\"\"\n",
        "import tensorflow as tf\n",
        "import numpy as np\n",
        "import pandas as pd\n",
        "import seaborn as sns\n",
        "import matplotlib.pyplot as plt\n",
        "from tensorflow.keras import layers\n",
        "from tensorflow import keras\n",
        "\n",
        "np.set_printoptions(precision=3, suppress=True) # Make numpy values easier to read\n",
        "\n",
        "###############################################################################\n",
        "def plot_loss(history): \n",
        "  plt.plot(history.history['loss'], label='loss')\n",
        "  plt.plot(history.history['val_loss'], label='val_loss')\n",
        "  plt.ylim([0, 10])\n",
        "  plt.xlabel('Epoch')\n",
        "  plt.ylabel('Error [Heating Load]')\n",
        "  plt.legend()\n",
        "  plt.grid(True)\n",
        "def build_and_compile_model(norm):\n",
        "  model = keras.Sequential([\n",
        "      norm,\n",
        "      layers.Dense(8, activation='relu'),\n",
        "      layers.Dense(8, activation='relu'),\n",
        "      layers.Dense(1)\n",
        "\n",
        "  ])\n",
        "\n",
        "  model.compile(loss='mean_absolute_error',\n",
        "                optimizer=tf.keras.optimizers.Adam(0.001))\n",
        "  return model\n",
        "###############################################################################\n",
        "\n",
        "# Intitialize dataset. Remove Y2 column from dataset\n",
        "url = \"https://archive.ics.uci.edu/ml/machine-learning-databases/00242/ENB2012_data.xlsx\"\n",
        "column_names = ['X1','X2','X3','X4','X5','X6','X7','X8','Y1','Y2'] \n",
        "energy_eff_data = pd.read_excel(url,names=column_names)\n",
        "energy_eff_data.pop('Y2')\n",
        "energy_eff_data.tail()\n",
        "\n",
        "# Data Fragmentation into train and test sets\n",
        "train_dataset = energy_eff_data.sample(frac=0.8, random_state=0)\n",
        "test_dataset = energy_eff_data.drop(train_dataset.index)\n",
        "\n",
        "train_features = train_dataset.copy()\n",
        "test_features = test_dataset.copy()\n",
        "\n",
        "train_labels = train_features.pop('Y1')\n",
        "test_labels = test_features.pop('Y1')\n",
        "\n",
        "# Normalization of features\n",
        "train_dataset.describe().transpose()[['mean', 'std']]\n",
        "normalizer = tf.keras.layers.Normalization(axis=-1)\n",
        "normalizer.adapt(np.array(train_features))"
      ],
      "execution_count": 1,
      "outputs": []
    },
    {
      "cell_type": "code",
      "metadata": {
        "colab": {
          "base_uri": "https://localhost:8080/",
          "height": 630
        },
        "id": "v6bgkxS-zJ6v",
        "outputId": "03c61155-7670-4728-b54b-bafeb6559ed0"
      },
      "source": [
        "# Neural Network Model\n",
        "dnn_model = build_and_compile_model(normalizer)\n",
        "dnn_model.summary()\n",
        "%time\n",
        "history = dnn_model.fit(\n",
        "    train_features,\n",
        "    train_labels,\n",
        "    validation_split=0.2,\n",
        "    verbose=0, epochs=100)\n",
        "plot_loss(history)\n",
        "test_results = {}\n",
        "test_results['dnn_model'] = dnn_model.evaluate(test_features, test_labels, verbose=0)\n",
        "test_predictions = dnn_model.predict(test_features).flatten()"
      ],
      "execution_count": 2,
      "outputs": [
        {
          "output_type": "stream",
          "name": "stdout",
          "text": [
            "Model: \"sequential\"\n",
            "_________________________________________________________________\n",
            " Layer (type)                Output Shape              Param #   \n",
            "=================================================================\n",
            " normalization (Normalizatio  (None, 8)                17        \n",
            " n)                                                              \n",
            "                                                                 \n",
            " dense (Dense)               (None, 8)                 72        \n",
            "                                                                 \n",
            " dense_1 (Dense)             (None, 8)                 72        \n",
            "                                                                 \n",
            " dense_2 (Dense)             (None, 1)                 9         \n",
            "                                                                 \n",
            "=================================================================\n",
            "Total params: 170\n",
            "Trainable params: 153\n",
            "Non-trainable params: 17\n",
            "_________________________________________________________________\n",
            "CPU times: user 3 µs, sys: 0 ns, total: 3 µs\n",
            "Wall time: 7.39 µs\n"
          ]
        },
        {
          "output_type": "display_data",
          "data": {
            "image/png": "[encoded data removed]",
            "text/plain": [
              "<Figure size 432x288 with 1 Axes>"
            ]
          },
          "metadata": {
            "needs_background": "light"
          }
        }
      ]
    },
    {
      "cell_type": "code",
      "metadata": {
        "colab": {
          "base_uri": "https://localhost:8080/",
          "height": 335
        },
        "id": "U40cinmAzk_k",
        "outputId": "1c4c5f26-42e6-437e-b4eb-afed07c26e2f"
      },
      "source": [
        "# Plot the model\n",
        "a = plt.axes(aspect='equal')\n",
        "plt.scatter(test_labels, test_predictions)\n",
        "plt.xlabel('True Values [Heating Load]')\n",
        "plt.ylabel('Predictions [Heating Load]')\n",
        "lims = [0, 50]\n",
        "plt.xlim(lims)\n",
        "plt.ylim(lims)\n",
        "_ = plt.plot(lims, lims)\n",
        "\n",
        "# Print accuracy of the model\n",
        "print(\"-\"*32)\n",
        "temp = pd.DataFrame(data=test_labels)\n",
        "temp = temp['Y1'].tolist()\n",
        "#test_predictions = test_predictions.tolist()\n",
        "print(\"Model Accuracy: \",  (100 - tf.metrics.mean_squared_error(temp,test_predictions).numpy()))   \n",
        "print(\"-\"*32)"
      ],
      "execution_count": 3,
      "outputs": [
        {
          "output_type": "stream",
          "name": "stdout",
          "text": [
            "--------------------------------\n",
            "Model Accuracy:  92.84616613388062\n",
            "--------------------------------\n"
          ]
        },
        {
          "output_type": "display_data",
          "data": {
            "image/png": "[encoded data removed]",
            "text/plain": [
              "<Figure size 432x288 with 1 Axes>"
            ]
          },
          "metadata": {
            "needs_background": "light"
          }
        }
      ]
    }
  ]
}